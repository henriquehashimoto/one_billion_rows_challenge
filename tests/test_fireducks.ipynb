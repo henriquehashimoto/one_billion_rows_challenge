{
 "cells": [
  {
   "cell_type": "code",
   "execution_count": 7,
   "metadata": {},
   "outputs": [
    {
     "name": "stdout",
     "output_type": "stream",
     "text": [
      "Requirement already satisfied: matplotlib in c:\\users\\henrique hashimoto\\.pyenv\\pyenv-win\\versions\\3.12.4\\lib\\site-packages (3.10.1)\n",
      "Requirement already satisfied: contourpy>=1.0.1 in c:\\users\\henrique hashimoto\\.pyenv\\pyenv-win\\versions\\3.12.4\\lib\\site-packages (from matplotlib) (1.3.1)\n",
      "Requirement already satisfied: cycler>=0.10 in c:\\users\\henrique hashimoto\\.pyenv\\pyenv-win\\versions\\3.12.4\\lib\\site-packages (from matplotlib) (0.12.1)\n",
      "Requirement already satisfied: fonttools>=4.22.0 in c:\\users\\henrique hashimoto\\.pyenv\\pyenv-win\\versions\\3.12.4\\lib\\site-packages (from matplotlib) (4.56.0)\n",
      "Requirement already satisfied: kiwisolver>=1.3.1 in c:\\users\\henrique hashimoto\\.pyenv\\pyenv-win\\versions\\3.12.4\\lib\\site-packages (from matplotlib) (1.4.8)\n",
      "Requirement already satisfied: numpy>=1.23 in c:\\users\\henrique hashimoto\\.pyenv\\pyenv-win\\versions\\3.12.4\\lib\\site-packages (from matplotlib) (2.2.1)\n",
      "Requirement already satisfied: packaging>=20.0 in c:\\users\\henrique hashimoto\\.pyenv\\pyenv-win\\versions\\3.12.4\\lib\\site-packages (from matplotlib) (24.1)\n",
      "Requirement already satisfied: pillow>=8 in c:\\users\\henrique hashimoto\\.pyenv\\pyenv-win\\versions\\3.12.4\\lib\\site-packages (from matplotlib) (11.1.0)\n",
      "Requirement already satisfied: pyparsing>=2.3.1 in c:\\users\\henrique hashimoto\\.pyenv\\pyenv-win\\versions\\3.12.4\\lib\\site-packages (from matplotlib) (3.2.1)\n",
      "Requirement already satisfied: python-dateutil>=2.7 in c:\\users\\henrique hashimoto\\.pyenv\\pyenv-win\\versions\\3.12.4\\lib\\site-packages (from matplotlib) (2.9.0.post0)\n",
      "Requirement already satisfied: six>=1.5 in c:\\users\\henrique hashimoto\\.pyenv\\pyenv-win\\versions\\3.12.4\\lib\\site-packages (from python-dateutil>=2.7->matplotlib) (1.16.0)\n"
     ]
    },
    {
     "name": "stderr",
     "output_type": "stream",
     "text": [
      "\n",
      "[notice] A new release of pip is available: 24.0 -> 25.0.1\n",
      "[notice] To update, run: python.exe -m pip install --upgrade pip\n"
     ]
    }
   ],
   "source": [
    "!pip install matplotlib"
   ]
  },
  {
   "cell_type": "code",
   "execution_count": 8,
   "metadata": {},
   "outputs": [
    {
     "ename": "ModuleNotFoundError",
     "evalue": "No module named 'matplotlib'",
     "output_type": "error",
     "traceback": [
      "\u001b[1;31m---------------------------------------------------------------------------\u001b[0m",
      "\u001b[1;31mModuleNotFoundError\u001b[0m                       Traceback (most recent call last)",
      "Cell \u001b[1;32mIn[8], line 1\u001b[0m\n\u001b[1;32m----> 1\u001b[0m \u001b[38;5;28;01mimport\u001b[39;00m \u001b[38;5;21;01mmatplotlib\u001b[39;00m\u001b[38;5;21;01m.\u001b[39;00m\u001b[38;5;21;01mpyplot\u001b[39;00m \u001b[38;5;28;01mas\u001b[39;00m \u001b[38;5;21;01mplt\u001b[39;00m\n\u001b[0;32m      3\u001b[0m \u001b[38;5;66;03m# Dados\u001b[39;00m\n\u001b[0;32m      4\u001b[0m tools \u001b[38;5;241m=\u001b[39m [\u001b[38;5;124m\"\u001b[39m\u001b[38;5;124mDuckDB\u001b[39m\u001b[38;5;124m\"\u001b[39m, \u001b[38;5;124m\"\u001b[39m\u001b[38;5;124mPySpark\u001b[39m\u001b[38;5;124m\"\u001b[39m, \u001b[38;5;124m\"\u001b[39m\u001b[38;5;124mFireDucks\u001b[39m\u001b[38;5;124m\"\u001b[39m, \u001b[38;5;124m\"\u001b[39m\u001b[38;5;124mPandas\u001b[39m\u001b[38;5;124m\"\u001b[39m]\n",
      "\u001b[1;31mModuleNotFoundError\u001b[0m: No module named 'matplotlib'"
     ]
    }
   ],
   "source": [
    "import matplotlib.pyplot as plt\n",
    "\n",
    "# Dados\n",
    "tools = [\"DuckDB\", \"PySpark\", \"FireDucks\", \"Pandas\"]\n",
    "times = [23.39, 129.84, 141.25, 328.50]\n",
    "colors = [\"#00CC66\", \"#1E90FF\", \"#8A2BE2\", \"#A9A9A9\"]\n",
    "\n",
    "# Criar gráfico\n",
    "plt.figure(figsize=(10, 6))\n",
    "bars = plt.bar(tools, times, color=colors, edgecolor=\"black\")\n",
    "\n",
    "# Destacar DuckDB\n",
    "bars[0].set_linewidth(2)\n",
    "bars[0].set_edgecolor(\"black\")\n",
    "plt.text(0, 23.39 + 10, \"23.39s 🚀\", ha=\"center\", fontweight=\"bold\")\n",
    "\n",
    "# Outros valores\n",
    "for i, bar in enumerate(bars[1:], 1):\n",
    "    plt.text(i, times[i] + 10, f\"{times[i]}s\", ha=\"center\", fontweight=\"bold\")\n",
    "\n",
    "# Configurações\n",
    "plt.title(\"Qual é a ferramenta mais rápida para processar 1 bilhão de linhas?\", \n",
    "          fontsize=16, fontweight=\"bold\", pad=20)\n",
    "plt.ylabel(\"Tempo de Execução (seg)\", fontsize=12)\n",
    "plt.ylim(0, 400)\n",
    "plt.grid(axis=\"y\", linestyle=\"--\", alpha=0.7)\n",
    "plt.tight_layout()\n",
    "\n",
    "# Salvar\n",
    "plt.savefig(\"performance_comparison.png\", dpi=300, bbox_inches=\"tight\")\n",
    "plt.show()"
   ]
  }
 ],
 "metadata": {
  "kernelspec": {
   "display_name": "Python 3",
   "language": "python",
   "name": "python3"
  },
  "language_info": {
   "codemirror_mode": {
    "name": "ipython",
    "version": 3
   },
   "file_extension": ".py",
   "mimetype": "text/x-python",
   "name": "python",
   "nbconvert_exporter": "python",
   "pygments_lexer": "ipython3",
   "version": "3.12.5"
  }
 },
 "nbformat": 4,
 "nbformat_minor": 2
}
